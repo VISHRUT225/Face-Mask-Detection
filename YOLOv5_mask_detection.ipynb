{
  "nbformat": 4,
  "nbformat_minor": 0,
  "metadata": {
    "colab": {
      "provenance": []
    },
    "kernelspec": {
      "name": "python3",
      "display_name": "Python 3"
    },
    "accelerator": "GPU"
  },
  "cells": [
    {
      "cell_type": "markdown",
      "metadata": {
        "id": "BX3HDLsiWmW4"
      },
      "source": [
        "# **Step 1: Clone Repo and install all dependencies**"
      ]
    },
    {
      "cell_type": "code",
      "metadata": {
        "id": "wbvMlHd_QwMG"
      },
      "source": [
        "!git clone https://github.com/ultralytics/yolov5\n",
        "!pip install -qr yolov5/requirements.txt\n",
        "%cd yolov5\n",
        "\n",
        "import torch\n",
        "from IPython.display import Image, clear_output\n",
        "\n",
        "\n",
        "clear_output()"
      ],
      "execution_count": 2,
      "outputs": []
    },
    {
      "cell_type": "markdown",
      "metadata": {
        "id": "M1L6xNMqWvbx"
      },
      "source": [
        "# **Step 2: Download the custom data-set that you are interested in (using the Roboflow api)**  [Link to datasets](https://public.roboflow.com/)"
      ]
    },
    {
      "cell_type": "code",
      "metadata": {
        "id": "rDQdEcQxr6X5"
      },
      "source": [
        "%cd /content\n",
        "!curl -L \"https://public.roboflow.com/ds/GhUe9gaDLO?key=EGbYLi5pJx\" > roboflow.zip; unzip roboflow.zip; rm roboflow.zip"
      ],
      "execution_count": null,
      "outputs": []
    },
    {
      "cell_type": "markdown",
      "metadata": {
        "id": "LooXA8cGW8A7"
      },
      "source": [
        "# **Step 3: Create the custom model configuration file**"
      ]
    },
    {
      "cell_type": "code",
      "metadata": {
        "id": "ZZ3DmmGQztJj"
      },
      "source": [
        "#extracting information from the roboflow file\n",
        "%cat data.yaml"
      ],
      "execution_count": null,
      "outputs": []
    },
    {
      "cell_type": "code",
      "metadata": {
        "id": "WkHH9bNiu1EO"
      },
      "source": [
        "# define number of classes based on data.yaml\n",
        "import yaml\n",
        "with open(\"data.yaml\", 'r') as stream:\n",
        "    num_classes = str(yaml.safe_load(stream)['nc'])"
      ],
      "execution_count": 5,
      "outputs": []
    },
    {
      "cell_type": "code",
      "source": [
        "!wget https://github.com/ultralytics/yolov5/releases/download/v7.0/yolov5n.pt"
      ],
      "metadata": {
        "id": "HdXSPO_gFHeC"
      },
      "execution_count": null,
      "outputs": []
    },
    {
      "cell_type": "markdown",
      "metadata": {
        "id": "TAUZD9J_XSj8"
      },
      "source": [
        "# **Step 4: Train yolov5 on the custom images using the custom configuration file**"
      ]
    },
    {
      "cell_type": "code",
      "metadata": {
        "id": "1NcFxRcFdJ_O"
      },
      "source": [
        "# train yolov5s on custom data for 100 epochs\n",
        "# time its performance\n",
        "%%time\n",
        "%cd /content/yolov5/\n",
        "!python train.py --img 416 --batch 16 --epochs 100 --data '../data.yaml' --weights /content/yolov5/yolov5n.pt --cache"
      ],
      "execution_count": null,
      "outputs": []
    },
    {
      "cell_type": "code",
      "source": [
        "from utils.plots import plot_results\n",
        "plot_results('/content/yolov5/runs/train/exp/results.csv')  # plot 'results.csv' as 'results.png'\n",
        "\n",
        "# display plot results\n",
        "from IPython.display import Image\n",
        "Image(filename='/content/yolov5/runs/train/exp/results.png')"
      ],
      "metadata": {
        "id": "BpIFpsTdQham"
      },
      "execution_count": null,
      "outputs": []
    },
    {
      "cell_type": "markdown",
      "metadata": {
        "id": "iDpFbc3aXjGw"
      },
      "source": [
        "#**Step 5: Run yolov5 detection on images.**\n",
        "# *Don't forget to copy the location of the weights file and replace it in the code below*"
      ]
    },
    {
      "cell_type": "code",
      "source": [
        "!python detect.py --weights /content/yolov5/runs/train/exp/weights/best.pt --img 416 --conf 0.4 --source ../test/images"
      ],
      "metadata": {
        "id": "uX8ewLtxJVpg"
      },
      "execution_count": null,
      "outputs": []
    },
    {
      "cell_type": "code",
      "source": [
        "import glob\n",
        "from IPython.display import Image, display\n",
        "\n",
        "for imageName in glob.glob('/content/yolov5/runs/detect/exp2/*.jpg'):\n",
        "    display(Image(filename=imageName))\n",
        "    print(\"\\n\")"
      ],
      "metadata": {
        "id": "2AB0nnrTHgwf"
      },
      "execution_count": null,
      "outputs": []
    }
  ]
}